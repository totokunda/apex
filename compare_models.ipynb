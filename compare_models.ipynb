{
 "cells": [
  {
   "cell_type": "code",
   "execution_count": 1,
   "id": "8500de0e",
   "metadata": {},
   "outputs": [],
   "source": [
    "import torch\n",
    "from src.transformer.wan.recam.model import WanRecamTransformer3DModel\n",
    "import json\n",
    "from accelerate import init_empty_weights\n",
    "from glob import glob\n",
    "from safetensors.torch import load_file\n",
    "\n",
    "checkpoint = torch.load(\"/mnt/localssd/apex-diffusion/components/KwaiVGI/ReCamMaster-Wan2.1/resolve/main/step20000.ckpt\")\n"
   ]
  },
  {
   "cell_type": "code",
   "execution_count": null,
   "id": "7dd0b65e",
   "metadata": {},
   "outputs": [],
   "source": [
    "\n",
    "config = json.load(open(\"/mnt/localssd/apex-diffusion/components/Wan-AI_Wan2.1-T2V-1.3B-Diffusers/transformer/config.json\"))\n",
    "\n",
    "with init_empty_weights():\n",
    "    model = WanRecamTransformer3DModel.from_config(config)\n",
    "\n",
    "state_dict_files = glob('/mnt/localssd/apex-diffusion/components/Wan-AI_Wan2.1-T2V-1.3B-Diffusers/transformer/*.safetensors')\n",
    "state_dict = checkpoint\n",
    "\n",
    "for file in state_dict_files:\n",
    "    state_dict.update(load_file(file, device=\"cpu\"))\n",
    "\n",
    "model.load_state_dict(state_dict,assign=True)\n",
    "model.to(\"cuda\")\n",
    "model.eval()\n",
    "\n"
   ]
  },
  {
   "cell_type": "code",
   "execution_count": null,
   "id": "3bd66a74",
   "metadata": {},
   "outputs": [],
   "source": [
    "chec"
   ]
  },
  {
   "cell_type": "code",
   "execution_count": null,
   "id": "96edbe46",
   "metadata": {},
   "outputs": [],
   "source": [
    "print(model.patch_embedding.weight.dtype)"
   ]
  },
  {
   "cell_type": "code",
   "execution_count": null,
   "id": "430dae22",
   "metadata": {},
   "outputs": [],
   "source": [
    "import sys \n",
    "import torch\n",
    "import torch.nn as nn\n",
    "sys.path.append(\"/home/tosinkuye/apex/ReCamMaster\")\n",
    "from diffsynth import ModelManager, WanVideoReCamMasterPipeline, save_video, VideoData\n",
    "\n",
    "model_manager = ModelManager(torch_dtype=torch.bfloat16, device=\"cpu\")\n",
    "model_manager.load_models([\n",
    "    \"/mnt/localssd/models/Wan-AI/Wan2.1-T2V-1.3B/diffusion_pytorch_model.safetensors\",\n",
    "], torch_dtype=torch.float32)\n",
    "pipe = WanVideoReCamMasterPipeline.from_model_manager(model_manager, device=\"cuda\")\n",
    "\n",
    "dit = pipe.dit\n",
    "\n",
    "dim=dit.blocks[0].self_attn.q.weight.shape[0]\n",
    "for block in dit.blocks:\n",
    "    block.cam_encoder = nn.Linear(12, dim)\n",
    "    block.projector = nn.Linear(dim, dim)\n",
    "    block.cam_encoder.weight.data.zero_()\n",
    "    block.cam_encoder.bias.data.zero_()\n",
    "    block.projector.weight = nn.Parameter(torch.eye(dim))\n",
    "    block.projector.bias = nn.Parameter(torch.zeros(dim))\n",
    "# 3. Load ReCamMaster checkpoint\n",
    "dit.load_state_dict(checkpoint, strict=True)\n",
    "\n",
    "print(dit)"
   ]
  },
  {
   "cell_type": "code",
   "execution_count": null,
   "id": "ce79a076",
   "metadata": {},
   "outputs": [],
   "source": [
    "m = torch.load('/home/tosinkuye/apex/ReCamMaster/latents_input.pt')\n",
    "\n",
    "latents_input = m['latents_input'].to(torch.float32)\n",
    "timestep = m['timestep'].to(torch.float32)\n",
    "cam_emb = m['cam_emb'].to(torch.float32)\n",
    "prompt_emb_posi = m['prompt_emb_posi'].to(torch.float32)\n",
    "prompt_emb_nega = m['prompt_emb_nega'].to(torch.float32)"
   ]
  },
  {
   "cell_type": "code",
   "execution_count": null,
   "id": "db8563b1",
   "metadata": {},
   "outputs": [],
   "source": [
    "with torch.no_grad():\n",
    "    outs_a = model.forward(hidden_states=latents_input, timestep=timestep, encoder_hidden_states=prompt_emb_posi, cam_hidden_states=cam_emb)\n",
    "    outs_b = dit.forward(latents_input, timestep, prompt_emb_posi, cam_emb)"
   ]
  }
 ],
 "metadata": {
  "kernelspec": {
   "display_name": "apex",
   "language": "python",
   "name": "python3"
  },
  "language_info": {
   "codemirror_mode": {
    "name": "ipython",
    "version": 3
   },
   "file_extension": ".py",
   "mimetype": "text/x-python",
   "name": "python",
   "nbconvert_exporter": "python",
   "pygments_lexer": "ipython3",
   "version": "3.10.18"
  }
 },
 "nbformat": 4,
 "nbformat_minor": 5
}
